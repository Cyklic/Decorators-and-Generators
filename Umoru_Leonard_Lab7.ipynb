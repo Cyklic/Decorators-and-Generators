{
  "nbformat": 4,
  "nbformat_minor": 0,
  "metadata": {
    "colab": {
      "provenance": []
    },
    "kernelspec": {
      "name": "python3",
      "display_name": "Python 3"
    },
    "language_info": {
      "name": "python"
    }
  },
  "cells": [
    {
      "cell_type": "markdown",
      "source": [
        "# **Lab 7 Umoru Leonard 041152507**"
      ],
      "metadata": {
        "id": "TgQyT8XFxuTM"
      }
    },
    {
      "cell_type": "markdown",
      "source": [
        "### 1. Create a generator that generates the squares of numbers up to some number N."
      ],
      "metadata": {
        "id": "laLiCG0CzT_u"
      }
    },
    {
      "cell_type": "code",
      "source": [
        "def square(n):\n",
        "    for num in range(n):\n",
        "        yield num ** 2\n",
        "\n",
        "for n in square(11):\n",
        "    print(n)"
      ],
      "metadata": {
        "colab": {
          "base_uri": "https://localhost:8080/"
        },
        "id": "lCAffLsUyndU",
        "outputId": "2b6a6da8-2239-4775-f490-0550f77aa598"
      },
      "execution_count": null,
      "outputs": [
        {
          "output_type": "stream",
          "name": "stdout",
          "text": [
            "0\n",
            "1\n",
            "4\n",
            "9\n",
            "16\n",
            "25\n",
            "36\n",
            "49\n",
            "64\n",
            "81\n",
            "100\n"
          ]
        }
      ]
    },
    {
      "cell_type": "markdown",
      "source": [
        "### 2.  Show the example of a Python generator that generates the first 5 multiples of a given number."
      ],
      "metadata": {
        "id": "SmfaeejRz7O1"
      }
    },
    {
      "cell_type": "code",
      "source": [
        "def multiple(n):\n",
        "    for num in range(5):\n",
        "        yield num * n\n",
        "\n",
        "for n in multiple(6):\n",
        "    print(n)"
      ],
      "metadata": {
        "colab": {
          "base_uri": "https://localhost:8080/"
        },
        "id": "z-fc2MaG0E-i",
        "outputId": "24cce6ce-6bdc-49c0-be7d-671bfbe42e0b"
      },
      "execution_count": null,
      "outputs": [
        {
          "output_type": "stream",
          "name": "stdout",
          "text": [
            "0\n",
            "6\n",
            "12\n",
            "18\n",
            "24\n"
          ]
        }
      ]
    },
    {
      "cell_type": "markdown",
      "source": [
        "### 3. Generator in Python that generates the first 5 even numbers."
      ],
      "metadata": {
        "id": "WGrf-EmC0Lqi"
      }
    },
    {
      "cell_type": "code",
      "source": [
        "def even_number():\n",
        "    for num in range(5):\n",
        "        yield num * 2\n",
        "\n",
        "for n in even_number():\n",
        "    print (n)"
      ],
      "metadata": {
        "colab": {
          "base_uri": "https://localhost:8080/"
        },
        "id": "KuqvefJH0Kir",
        "outputId": "3c4cb1e3-a94c-4cb6-ce5a-c6123fc3eaaf"
      },
      "execution_count": null,
      "outputs": [
        {
          "output_type": "stream",
          "name": "stdout",
          "text": [
            "0\n",
            "2\n",
            "4\n",
            "6\n",
            "8\n"
          ]
        }
      ]
    },
    {
      "cell_type": "markdown",
      "source": [
        "### 4. Creating a Simple Decorator."
      ],
      "metadata": {
        "id": "t_tHGa4U0mxH"
      }
    },
    {
      "cell_type": "code",
      "source": [
        "def my_decorator(func):\n",
        "    def wrapper():\n",
        "        print('Something is happening before the function is called.')\n",
        "        func()\n",
        "        print('Something is happening after the function is called.')\n",
        "    return wrapper\n",
        "\n",
        "# Apply the decorator to a function\n",
        "@my_decorator\n",
        "def say_hello():\n",
        "    print('Hello!')\n",
        "\n",
        "# Call the decorated function\n",
        "say_hello()"
      ],
      "metadata": {
        "colab": {
          "base_uri": "https://localhost:8080/"
        },
        "id": "SCrnmTD_0qql",
        "outputId": "98cae1c7-254b-4785-a782-68f822dba0f9"
      },
      "execution_count": null,
      "outputs": [
        {
          "output_type": "stream",
          "name": "stdout",
          "text": [
            "Something is happening before the function is called.\n",
            "Hello!\n",
            "Something is happening after the function is called.\n"
          ]
        }
      ]
    },
    {
      "cell_type": "markdown",
      "source": [
        "### 5. Decorating Functions with Arguments."
      ],
      "metadata": {
        "id": "-umXn4ET0uoS"
      }
    },
    {
      "cell_type": "code",
      "source": [
        "# Define a decorator function\n",
        "def my_decorator(func):\n",
        "    def wrapper(*args, **kwargs):\n",
        "        print('Something is happening before the function is called.')\n",
        "        func(*args, **kwargs)\n",
        "        print('Something is happening after the function is called.')\n",
        "    return wrapper\n",
        "\n",
        "# Apply the decorator to a function with arguments\n",
        "@my_decorator\n",
        "def display(text, name):\n",
        "    print(f'{text}, {name}')\n",
        "\n",
        "# Call the decorated function with arguments\n",
        "display('Hello', 'Alice')"
      ],
      "metadata": {
        "colab": {
          "base_uri": "https://localhost:8080/"
        },
        "id": "S_btCiqS025P",
        "outputId": "c57fb08e-6975-430b-fa05-f2d15d22e27f"
      },
      "execution_count": null,
      "outputs": [
        {
          "output_type": "stream",
          "name": "stdout",
          "text": [
            "Something is happening before the function is called.\n",
            "Hello, Alice\n",
            "Something is happening after the function is called.\n"
          ]
        }
      ]
    }
  ]
}